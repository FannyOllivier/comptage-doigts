{
 "cells": [
  {
   "cell_type": "markdown",
   "metadata": {},
   "source": [
    "### Import librairies"
   ]
  },
  {
   "cell_type": "code",
   "execution_count": 8,
   "metadata": {},
   "outputs": [],
   "source": [
    "import numpy as np\n",
    "import tensorflow as tf\n",
    "import keras\n",
    "import os\n",
    "import cv2\n",
    "import matplotlib.pyplot as plt\n",
    "from sklearn.model_selection import train_test_split\n",
    "from keras.models import Sequential\n",
    "from keras.layers import Dense, Dropout, Flatten, Conv2D, MaxPooling2D\n",
    "from keras import backend as K\n",
    "import copy\n",
    "import math\n",
    "from time import gmtime, strftime"
   ]
  },
  {
   "cell_type": "markdown",
   "metadata": {},
   "source": [
    "### Create your own dataset\n",
    "\n",
    "Find the original code here : https://github.com/lzane/Fingers-Detection-using-OpenCV-and-Python\n",
    "\n",
    "- Launch the following cell\n",
    "- The blue rectangle is the interesting area\n",
    "- Remove the background by pressing 'b' when the area is \"empty\" (i.e. you are not in here)\n",
    "- Then move your hand in the area, you should see it in blank\n",
    "- Each image is stored in ./data/i/imagej.png, where i is the number of finger relative to the picture you're currently saving, and j stands for the $j^{th}$ picture\n",
    "- When you are done with one number of finger, just press esc to quit, change the finger_counter and do it for finger_counter between 0 and 5\n",
    "\n",
    "- 20 frames per second during 2 minutes gives about $20*2*60 = 2400$ frames\n",
    "- Vary your 'hand positions' to have some robustness\n",
    "- If you move during the capture, feel free to press 'r' to reset the background\n",
    "- If you have noisy pictures, you could implement some additional erode/dilate step\n",
    "\n",
    "- Remove the black pictures, or bad pictures (with a wrong number of finger for an example) "
   ]
  },
  {
   "cell_type": "code",
   "execution_count": 9,
   "metadata": {},
   "outputs": [],
   "source": [
    "############################ TO CHANGE ####################\n",
    "finger_counter = 5\n",
    "\n",
    "\n",
    "\n",
    "# parameters\n",
    "cap_region_x_begin=0.5  # start point/total width\n",
    "cap_region_y_end=0.8  # start point/total width\n",
    "threshold = 40  #  BINARY threshold 60\n",
    "blurValue = 21 # GaussianBlur parameter\n",
    "bgSubThreshold = 50\n",
    "learningRate = 0\n",
    "\n",
    "# variables\n",
    "isBgCaptured = 0   # bool, whether the background captured\n",
    "triggerSwitch = False  # if true, keyborad simulator works\n",
    "\n",
    "def printThreshold(thr):\n",
    "    print(\"! Changed threshold to \"+str(thr))\n",
    "\n",
    "\n",
    "def removeBG(frame):\n",
    "    # Remove the background\n",
    "    fgmask = bgModel.apply(frame,learningRate=learningRate)\n",
    "    kernel = np.ones((3, 3), np.uint8)\n",
    "    fgmask = cv2.erode(fgmask, kernel, iterations=1)\n",
    "    res = cv2.bitwise_and(frame, frame, mask=fgmask)\n",
    "    return res\n",
    "\n",
    "# Camera\n",
    "camera = cv2.VideoCapture(0)\n",
    "camera.set(10,200)\n",
    "cv2.namedWindow('trackbar')\n",
    "cv2.createTrackbar('trh1', 'trackbar', threshold, 100, printThreshold)\n",
    "\n",
    "counter = 0\n",
    "\n",
    "while camera.isOpened():\n",
    "    ret, frame = camera.read()\n",
    "    threshold = cv2.getTrackbarPos('trh1', 'trackbar')\n",
    "    frame = cv2.bilateralFilter(frame, 5, 50, 100)  # smoothing filter\n",
    "    frame = cv2.flip(frame, 1)  # flip the frame horizontally\n",
    "    cv2.rectangle(frame, (int(cap_region_x_begin * frame.shape[1]), 0),\n",
    "                 (frame.shape[1], int(cap_region_y_end * frame.shape[0])), (255, 0, 0), 2)\n",
    "    cv2.imshow('original', frame)\n",
    "\n",
    "    #  Main operation\n",
    "    if isBgCaptured == 1:\n",
    "        img = removeBG(frame)\n",
    "        img = img[0:int(cap_region_y_end * frame.shape[0]),\n",
    "                    int(cap_region_x_begin * frame.shape[1]):frame.shape[1]]  # clip the ROI\n",
    "        #cv2.imshow('mask', img)\n",
    "\n",
    "        # convert the image into binary image\n",
    "        gray = cv2.cvtColor(img, cv2.COLOR_BGR2GRAY)\n",
    "        blur = cv2.GaussianBlur(gray, (blurValue, blurValue), 0)\n",
    "        #cv2.imshow('blur', blur)\n",
    "        ret, thresh = cv2.threshold(blur, threshold, 255, cv2.THRESH_BINARY)\n",
    "        cv2.imshow('output', thresh)\n",
    "        \n",
    "        path = 'data/picture/'+str(finger_counter)+'/image'+str(counter)+'.png'\n",
    "        cv2.imwrite(path, cv2.resize(thresh, (28,28)))\n",
    "    counter+=1\n",
    "\n",
    "    # Keyboard OP\n",
    "    k = cv2.waitKey(10)\n",
    "    if k == 27:  # press ESC to exit\n",
    "        camera.release()\n",
    "        cv2.destroyAllWindows()\n",
    "        break\n",
    "    elif k == ord('b'):  # press 'b' to capture the background\n",
    "        bgModel = cv2.createBackgroundSubtractorMOG2(0, bgSubThreshold)\n",
    "        isBgCaptured = 1\n",
    "        print( '!!!Background Captured!!!')\n",
    "    elif k == ord('r'):  # press 'r' to reset the background\n",
    "        bgModel = None\n",
    "        triggerSwitch = False\n",
    "        isBgCaptured = 0\n",
    "        print ('!!!Reset BackGround!!!')\n",
    "    elif k == ord('n'):\n",
    "        triggerSwitch = True\n",
    "        print ('!!!Trigger On!!!')"
   ]
  },
  {
   "cell_type": "markdown",
   "metadata": {},
   "source": [
    "### Import the pictures\n",
    "\n",
    "Once created, you can start learning your dataset."
   ]
  },
  {
   "cell_type": "markdown",
   "metadata": {},
   "source": [
    "You can multiply your dataset's size by adding other picture orientations. To do that, just run the following cell as python code."
   ]
  },
  {
   "cell_type": "markdown",
   "metadata": {},
   "source": [
    "for count_finger in range(6):\n",
    "    \n",
    "    path = \"./data/picture/\"+str(count_finger)+'/'\n",
    "    \n",
    "    for pict_name in os.listdir(path):\n",
    "\n",
    "        img=cv2.imread(path+pict_name)\n",
    "\n",
    "        # rotate ccw\n",
    "        out=cv2.transpose(img)\n",
    "        out=cv2.flip(out,flipCode=0)\n",
    "        cv2.imwrite(path+pict_name[:-4]+'_left.png', out)\n",
    "        \n",
    "        #rotate cw\n",
    "        out=cv2.transpose(img)\n",
    "        out=cv2.flip(out,flipCode=1)\n",
    "\n",
    "        cv2.imwrite(path+pict_name[:-4]+'_right.png', out)"
   ]
  },
  {
   "cell_type": "code",
   "execution_count": 3,
   "metadata": {},
   "outputs": [],
   "source": [
    "# all the pictures are stored in ./data/picture/i, where i  is the number of fingers relative to the pictures in the folder i\n",
    "\n",
    "pict = []\n",
    "labels =  []\n",
    "path = \"\"\n",
    "\n",
    "img_rows = 28\n",
    "img_cols = 28\n",
    "\n",
    "for count_finger in range(6):\n",
    "    path = \"./data/picture/\"+str(count_finger)+'/'\n",
    "    for pict_name in os.listdir(path):\n",
    "        pict.append(cv2.cvtColor(cv2.resize(cv2.imread(path+pict_name),(img_rows, img_cols)), cv2.COLOR_BGR2GRAY))\n",
    "        labels.append(count_finger)"
   ]
  },
  {
   "cell_type": "code",
   "execution_count": 10,
   "metadata": {},
   "outputs": [],
   "source": [
    "x_train, x_test, y_train, y_test = train_test_split(pict, labels, train_size = 0.8)"
   ]
  },
  {
   "cell_type": "code",
   "execution_count": 11,
   "metadata": {
    "scrolled": false
   },
   "outputs": [
    {
     "data": {
      "image/png": "[encoded data removed]",
      "text/plain": [
       "<Figure size 1152x1152 with 16 Axes>"
      ]
     },
     "metadata": {
      "needs_background": "light"
     },
     "output_type": "display_data"
    }
   ],
   "source": [
    "taille = 4\n",
    "plt.subplots(nrows=taille,\n",
    "             ncols=taille,\n",
    "             figsize=(taille*taille,taille*taille))\n",
    "\n",
    "for i in range(taille):\n",
    "    for j in range(taille):\n",
    "        indice = i*taille+j+1\n",
    "        \n",
    "        plt.subplot(taille,taille,indice) \n",
    "        plt.imshow(x_train[indice])\n",
    "        plt.title(str(y_train[indice])+\"  finger\"+(y_train[indice]>=2)*\"s\")\n",
    "plt.show()"
   ]
  },
  {
   "cell_type": "code",
   "execution_count": 12,
   "metadata": {},
   "outputs": [
    {
     "name": "stdout",
     "output_type": "stream",
     "text": [
      "We split the data into : \n",
      "43948 images dedicated to the training\n",
      "10988 images dedicated to the test\n"
     ]
    }
   ],
   "source": [
    "# We have 6 classes, corresponding to the number between 0 and 5 (included)\n",
    "num_classes = 6\n",
    "\n",
    "x_train = np.array(x_train, dtype= np.float32)/255\n",
    "x_test = np.array(x_test, dtype= np.float32)/255\n",
    "\n",
    "\n",
    "if K.image_data_format() == 'channels_first':\n",
    "    x_train = x_train.reshape(len(x_train), 1, img_rows, img_cols)\n",
    "    x_test = x_test.reshape(len(x_test), 1, img_rows, img_cols)\n",
    "    input_shape = (1, img_rows, img_cols)\n",
    "else:\n",
    "    x_train = x_train.reshape(x_train.shape[0], img_rows, img_cols, 1)\n",
    "    x_test = x_test.reshape(x_test.shape[0], img_rows, img_cols, 1)\n",
    "    input_shape = (img_rows, img_cols, 1)\n",
    "\n",
    "y_train = keras.utils.to_categorical(y_train, num_classes)\n",
    "y_test = keras.utils.to_categorical(y_test, num_classes)\n",
    "\n",
    "print(\"We split the data into : \")\n",
    "print(len(x_train), \"images dedicated to the training\")\n",
    "print(len(x_test), \"images dedicated to the test\")"
   ]
  },
  {
   "cell_type": "code",
   "execution_count": 13,
   "metadata": {},
   "outputs": [
    {
     "data": {
      "text/plain": [
       "(43948, 28, 28, 1)"
      ]
     },
     "execution_count": 13,
     "metadata": {},
     "output_type": "execute_result"
    }
   ],
   "source": [
    "x_train.shape"
   ]
  },
  {
   "cell_type": "markdown",
   "metadata": {},
   "source": [
    "### Train the model\n",
    "\n",
    "Following this blog : https://becominghuman.ai/real-time-finger-detection-1e18fea0d1d4"
   ]
  },
  {
   "cell_type": "code",
   "execution_count": 14,
   "metadata": {},
   "outputs": [
    {
     "name": "stdout",
     "output_type": "stream",
     "text": [
      "WARNING:tensorflow:From C:\\Users\\llesoil\\AppData\\Local\\Continuum\\anaconda3\\envs\\opencv\\lib\\site-packages\\keras\\backend\\tensorflow_backend.py:74: The name tf.get_default_graph is deprecated. Please use tf.compat.v1.get_default_graph instead.\n",
      "\n",
      "WARNING:tensorflow:From C:\\Users\\llesoil\\AppData\\Local\\Continuum\\anaconda3\\envs\\opencv\\lib\\site-packages\\keras\\backend\\tensorflow_backend.py:517: The name tf.placeholder is deprecated. Please use tf.compat.v1.placeholder instead.\n",
      "\n",
      "WARNING:tensorflow:From C:\\Users\\llesoil\\AppData\\Local\\Continuum\\anaconda3\\envs\\opencv\\lib\\site-packages\\keras\\backend\\tensorflow_backend.py:4138: The name tf.random_uniform is deprecated. Please use tf.random.uniform instead.\n",
      "\n",
      "WARNING:tensorflow:From C:\\Users\\llesoil\\AppData\\Local\\Continuum\\anaconda3\\envs\\opencv\\lib\\site-packages\\keras\\backend\\tensorflow_backend.py:3976: The name tf.nn.max_pool is deprecated. Please use tf.nn.max_pool2d instead.\n",
      "\n",
      "WARNING:tensorflow:From C:\\Users\\llesoil\\AppData\\Local\\Continuum\\anaconda3\\envs\\opencv\\lib\\site-packages\\keras\\backend\\tensorflow_backend.py:133: The name tf.placeholder_with_default is deprecated. Please use tf.compat.v1.placeholder_with_default instead.\n",
      "\n",
      "WARNING:tensorflow:From C:\\Users\\llesoil\\AppData\\Local\\Continuum\\anaconda3\\envs\\opencv\\lib\\site-packages\\keras\\backend\\tensorflow_backend.py:3445: calling dropout (from tensorflow.python.ops.nn_ops) with keep_prob is deprecated and will be removed in a future version.\n",
      "Instructions for updating:\n",
      "Please use `rate` instead of `keep_prob`. Rate should be set to `rate = 1 - keep_prob`.\n",
      "WARNING:tensorflow:From C:\\Users\\llesoil\\AppData\\Local\\Continuum\\anaconda3\\envs\\opencv\\lib\\site-packages\\keras\\optimizers.py:790: The name tf.train.Optimizer is deprecated. Please use tf.compat.v1.train.Optimizer instead.\n",
      "\n",
      "WARNING:tensorflow:From C:\\Users\\llesoil\\AppData\\Local\\Continuum\\anaconda3\\envs\\opencv\\lib\\site-packages\\keras\\backend\\tensorflow_backend.py:3295: The name tf.log is deprecated. Please use tf.math.log instead.\n",
      "\n"
     ]
    }
   ],
   "source": [
    "model = Sequential()\n",
    "model.add(Conv2D(32, (2,2), activation='relu', input_shape=(img_rows, img_cols, 1)))\n",
    "model.add(Conv2D(32, (3,3), activation='relu'))\n",
    "model.add(Conv2D(64, (3,3), activation='relu'))\n",
    "model.add(MaxPooling2D((2,2)))\n",
    "model.add(Dropout(0.25))\n",
    "model.add(Flatten())\n",
    "model.add(Dense(64, activation='relu'))\n",
    "model.add(Dropout(0.25))\n",
    "model.add(Dense(6, activation='softmax'))\n",
    "model.compile(loss=keras.losses.categorical_crossentropy,\n",
    "              optimizer=keras.optimizers.Adam(),\n",
    "              metrics=['accuracy'])"
   ]
  },
  {
   "cell_type": "code",
   "execution_count": 15,
   "metadata": {},
   "outputs": [
    {
     "name": "stdout",
     "output_type": "stream",
     "text": [
      "WARNING:tensorflow:From C:\\Users\\llesoil\\AppData\\Roaming\\Python\\Python36\\site-packages\\tensorflow\\python\\ops\\math_grad.py:1250: add_dispatch_support.<locals>.wrapper (from tensorflow.python.ops.array_ops) is deprecated and will be removed in a future version.\n",
      "Instructions for updating:\n",
      "Use tf.where in 2.0, which has the same broadcast rule as np.where\n",
      "Train on 43948 samples, validate on 10988 samples\n",
      "Epoch 1/10\n",
      "43948/43948 [==============================] - 53s 1ms/step - loss: 0.8628 - acc: 0.6477 - val_loss: 0.4291 - val_acc: 0.8504\n",
      "Epoch 2/10\n",
      "43948/43948 [==============================] - 51s 1ms/step - loss: 0.3973 - acc: 0.8576 - val_loss: 0.2414 - val_acc: 0.9266\n",
      "Epoch 3/10\n",
      "43948/43948 [==============================] - 52s 1ms/step - loss: 0.2658 - acc: 0.9067 - val_loss: 0.1718 - val_acc: 0.9478\n",
      "Epoch 4/10\n",
      "43948/43948 [==============================] - 51s 1ms/step - loss: 0.2053 - acc: 0.9300 - val_loss: 0.1290 - val_acc: 0.9611\n",
      "Epoch 5/10\n",
      "43948/43948 [==============================] - 50s 1ms/step - loss: 0.1706 - acc: 0.9414 - val_loss: 0.1323 - val_acc: 0.9568\n",
      "Epoch 6/10\n",
      "43948/43948 [==============================] - 50s 1ms/step - loss: 0.1505 - acc: 0.9467 - val_loss: 0.0997 - val_acc: 0.9714\n",
      "Epoch 7/10\n",
      "43948/43948 [==============================] - 50s 1ms/step - loss: 0.1318 - acc: 0.9542 - val_loss: 0.0976 - val_acc: 0.9713\n",
      "Epoch 8/10\n",
      "43948/43948 [==============================] - 50s 1ms/step - loss: 0.1215 - acc: 0.9582 - val_loss: 0.0729 - val_acc: 0.9799\n",
      "Epoch 9/10\n",
      "43948/43948 [==============================] - 50s 1ms/step - loss: 0.1066 - acc: 0.9630 - val_loss: 0.0728 - val_acc: 0.9788\n",
      "Epoch 10/10\n",
      "43948/43948 [==============================] - 50s 1ms/step - loss: 0.0997 - acc: 0.9652 - val_loss: 0.0625 - val_acc: 0.9813\n"
     ]
    },
    {
     "data": {
      "text/plain": [
       "<keras.callbacks.History at 0x22060b54470>"
      ]
     },
     "execution_count": 15,
     "metadata": {},
     "output_type": "execute_result"
    }
   ],
   "source": [
    "batch_size = 128\n",
    "\n",
    "model.fit(x_train, y_train,\n",
    "          batch_size=batch_size,\n",
    "          epochs=10,\n",
    "          verbose=1,\n",
    "          validation_data=(x_test, y_test))"
   ]
  },
  {
   "cell_type": "markdown",
   "metadata": {},
   "source": [
    "### Test the model"
   ]
  },
  {
   "cell_type": "code",
   "execution_count": 43,
   "metadata": {},
   "outputs": [
    {
     "name": "stderr",
     "output_type": "stream",
     "text": [
      "C:\\Users\\llesoil\\AppData\\Local\\Continuum\\anaconda3\\envs\\opencv\\lib\\site-packages\\ipykernel_launcher.py:13: DeprecationWarning: In future, it will be an error for 'np.bool_' scalars to be interpreted as an index\n",
      "  del sys.path[0]\n"
     ]
    },
    {
     "data": {
      "image/png": "[encoded data removed]",
      "text/plain": [
       "<Figure size 1800x1800 with 25 Axes>"
      ]
     },
     "metadata": {
      "needs_background": "light"
     },
     "output_type": "display_data"
    }
   ],
   "source": [
    "taille = 5\n",
    "plt.subplots(nrows=taille,\n",
    "             ncols=taille,\n",
    "             figsize=(taille*taille,taille*taille))\n",
    "\n",
    "for i in range(taille): \n",
    "    for j in range(taille):\n",
    "        indice = i*taille+j+1\n",
    "        img = x_test[indice].reshape(img_rows, img_cols)\n",
    "        plt.subplot(taille,taille,indice)\n",
    "        plt.imshow(img)\n",
    "        count = np.argmax(model.predict(x_test[indice].reshape(1, img_rows, img_cols, 1)))\n",
    "        plt.title(str(count)+\"  finger\"+(count>=2)*\"s\")\n",
    "plt.show()"
   ]
  },
  {
   "cell_type": "code",
   "execution_count": 17,
   "metadata": {},
   "outputs": [
    {
     "data": {
      "text/plain": [
       "array([[1.12632844e-26, 1.14473728e-08, 7.99867809e-01, 2.00132176e-01,\n",
       "        9.50872359e-09, 2.09215913e-12],\n",
       "       [0.00000000e+00, 1.31413868e-38, 4.48483939e-28, 5.53947459e-13,\n",
       "        2.72023215e-07, 9.99999762e-01],\n",
       "       [7.76978814e-19, 8.79001831e-08, 1.08471885e-01, 7.71460116e-01,\n",
       "        1.20067321e-01, 6.66808717e-07],\n",
       "       ...,\n",
       "       [4.78892426e-10, 9.69061375e-01, 3.09380926e-02, 6.14320186e-07,\n",
       "        5.03575487e-16, 1.99615498e-12],\n",
       "       [0.00000000e+00, 3.54082649e-19, 2.32414865e-10, 9.99999881e-01,\n",
       "        9.40566025e-08, 1.20640965e-15],\n",
       "       [1.01003741e-30, 4.88081020e-10, 9.04953922e-05, 9.99573410e-01,\n",
       "        3.35862307e-04, 2.43032787e-07]], dtype=float32)"
      ]
     },
     "execution_count": 17,
     "metadata": {},
     "output_type": "execute_result"
    }
   ],
   "source": [
    "model.predict(x_test)"
   ]
  },
  {
   "cell_type": "code",
   "execution_count": 18,
   "metadata": {},
   "outputs": [
    {
     "data": {
      "text/plain": [
       "(10988, 28, 28, 1)"
      ]
     },
     "execution_count": 18,
     "metadata": {},
     "output_type": "execute_result"
    }
   ],
   "source": [
    "x_test.shape"
   ]
  },
  {
   "cell_type": "markdown",
   "metadata": {},
   "source": [
    "## Save the model"
   ]
  },
  {
   "cell_type": "code",
   "execution_count": 26,
   "metadata": {},
   "outputs": [],
   "source": [
    "version = 4\n",
    "model.save(\"finger_low_resolution_v\"+str(version)+\".h5\")"
   ]
  },
  {
   "cell_type": "markdown",
   "metadata": {},
   "source": [
    "# Confusion matrix"
   ]
  },
  {
   "cell_type": "markdown",
   "metadata": {},
   "source": [
    "from tensorflow.keras.models import load_model\n",
    "\n",
    "model = load_model(\"finger_low_resolution_v3.h5\")"
   ]
  },
  {
   "cell_type": "code",
   "execution_count": 21,
   "metadata": {},
   "outputs": [],
   "source": [
    "pred = []\n",
    "\n",
    "for i in range(len(x_test)):\n",
    "    pred.append(np.argmax(model.predict(np.resize(x_test[i],(1,28,28,1)))))"
   ]
  },
  {
   "cell_type": "code",
   "execution_count": 42,
   "metadata": {},
   "outputs": [
    {
     "data": {
      "text/html": [
       "<div>\n",
       "<style scoped>\n",
       "    .dataframe tbody tr th:only-of-type {\n",
       "        vertical-align: middle;\n",
       "    }\n",
       "\n",
       "    .dataframe tbody tr th {\n",
       "        vertical-align: top;\n",
       "    }\n",
       "\n",
       "    .dataframe thead th {\n",
       "        text-align: right;\n",
       "    }\n",
       "</style>\n",
       "<table border=\"1\" class=\"dataframe\">\n",
       "  <thead>\n",
       "    <tr style=\"text-align: right;\">\n",
       "      <th>True value</th>\n",
       "      <th>0</th>\n",
       "      <th>1</th>\n",
       "      <th>2</th>\n",
       "      <th>3</th>\n",
       "      <th>4</th>\n",
       "      <th>5</th>\n",
       "    </tr>\n",
       "    <tr>\n",
       "      <th>pred</th>\n",
       "      <th></th>\n",
       "      <th></th>\n",
       "      <th></th>\n",
       "      <th></th>\n",
       "      <th></th>\n",
       "      <th></th>\n",
       "    </tr>\n",
       "  </thead>\n",
       "  <tbody>\n",
       "    <tr>\n",
       "      <th>0</th>\n",
       "      <td>1480</td>\n",
       "      <td>12</td>\n",
       "      <td>18</td>\n",
       "      <td>0</td>\n",
       "      <td>0</td>\n",
       "      <td>0</td>\n",
       "    </tr>\n",
       "    <tr>\n",
       "      <th>1</th>\n",
       "      <td>11</td>\n",
       "      <td>1951</td>\n",
       "      <td>44</td>\n",
       "      <td>3</td>\n",
       "      <td>1</td>\n",
       "      <td>2</td>\n",
       "    </tr>\n",
       "    <tr>\n",
       "      <th>2</th>\n",
       "      <td>2</td>\n",
       "      <td>23</td>\n",
       "      <td>1941</td>\n",
       "      <td>23</td>\n",
       "      <td>3</td>\n",
       "      <td>1</td>\n",
       "    </tr>\n",
       "    <tr>\n",
       "      <th>3</th>\n",
       "      <td>0</td>\n",
       "      <td>3</td>\n",
       "      <td>22</td>\n",
       "      <td>1854</td>\n",
       "      <td>9</td>\n",
       "      <td>3</td>\n",
       "    </tr>\n",
       "    <tr>\n",
       "      <th>4</th>\n",
       "      <td>0</td>\n",
       "      <td>3</td>\n",
       "      <td>0</td>\n",
       "      <td>10</td>\n",
       "      <td>1490</td>\n",
       "      <td>6</td>\n",
       "    </tr>\n",
       "    <tr>\n",
       "      <th>5</th>\n",
       "      <td>0</td>\n",
       "      <td>2</td>\n",
       "      <td>0</td>\n",
       "      <td>0</td>\n",
       "      <td>4</td>\n",
       "      <td>2067</td>\n",
       "    </tr>\n",
       "  </tbody>\n",
       "</table>\n",
       "</div>"
      ],
      "text/plain": [
       "True value     0     1     2     3     4     5\n",
       "pred                                          \n",
       "0           1480    12    18     0     0     0\n",
       "1             11  1951    44     3     1     2\n",
       "2              2    23  1941    23     3     1\n",
       "3              0     3    22  1854     9     3\n",
       "4              0     3     0    10  1490     6\n",
       "5              0     2     0     0     4  2067"
      ]
     },
     "execution_count": 42,
     "metadata": {},
     "output_type": "execute_result"
    }
   ],
   "source": [
    "import pandas as pd\n",
    "pred = np.array(pred)\n",
    "val = np.argmax(y_test, axis = 1)\n",
    "pd.crosstab(pred, val, rownames=['pred'], colnames = ['True value'])"
   ]
  },
  {
   "cell_type": "code",
   "execution_count": null,
   "metadata": {},
   "outputs": [],
   "source": []
  }
 ],
 "metadata": {
  "kernelspec": {
   "display_name": "Python 3",
   "language": "python",
   "name": "python3"
  },
  "language_info": {
   "codemirror_mode": {
    "name": "ipython",
    "version": 3
   },
   "file_extension": ".py",
   "mimetype": "text/x-python",
   "name": "python",
   "nbconvert_exporter": "python",
   "pygments_lexer": "ipython3",
   "version": "3.6.9"
  }
 },
 "nbformat": 4,
 "nbformat_minor": 2
}
